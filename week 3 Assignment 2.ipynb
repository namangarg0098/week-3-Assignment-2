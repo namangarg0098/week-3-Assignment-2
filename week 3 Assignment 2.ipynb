{
 "cells": [
  {
   "cell_type": "markdown",
   "id": "b7fb567e-fa2b-440b-ad4c-88251feb7dc8",
   "metadata": {},
   "source": [
    "Ques1 - Create a python program to sort the given list of tuples based on integer value using a lambda function."
   ]
  },
  {
   "cell_type": "code",
   "execution_count": 36,
   "id": "200b52de-3e27-4d0e-b140-0bbbbe563397",
   "metadata": {},
   "outputs": [],
   "source": [
    "sor_ = [('Sachin Tendulkar',34357), ('Ricky Ponting',27483), ('Jack Kallis', 25534), ('Virat Kohli', 24936)]"
   ]
  },
  {
   "cell_type": "code",
   "execution_count": 39,
   "id": "4ed46025-ae14-4bfa-a093-c9d331dbd241",
   "metadata": {},
   "outputs": [],
   "source": [
    "sor_.sort(key=lambda a: a[1])"
   ]
  },
  {
   "cell_type": "code",
   "execution_count": 40,
   "id": "23d6a88d-6f2b-4e42-8445-c76bf9d0777f",
   "metadata": {},
   "outputs": [
    {
     "name": "stdout",
     "output_type": "stream",
     "text": [
      "[('Virat Kohli', 24936), ('Jack Kallis', 25534), ('Ricky Ponting', 27483), ('Sachin Tendulkar', 34357)]\n"
     ]
    }
   ],
   "source": [
    "print(sor_)"
   ]
  },
  {
   "cell_type": "code",
   "execution_count": null,
   "id": "00ea0c54-f639-456c-9611-ded53585d142",
   "metadata": {},
   "outputs": [],
   "source": []
  },
  {
   "cell_type": "markdown",
   "id": "f135942c-c39b-455f-beaf-d004bbff0f25",
   "metadata": {},
   "source": [
    "Q2 - Write a python program to find the squares of all the numbers in the given list of integers using lambda and map functions"
   ]
  },
  {
   "cell_type": "code",
   "execution_count": 46,
   "id": "0c21609a-49b3-4fee-be5d-02459ff61813",
   "metadata": {},
   "outputs": [],
   "source": [
    "a = [1,2,3,4,5,6,7,8,9,10]"
   ]
  },
  {
   "cell_type": "code",
   "execution_count": 51,
   "id": "b0833eb7-8df4-4b84-8d6f-551ae027cf84",
   "metadata": {},
   "outputs": [
    {
     "data": {
      "text/plain": [
       "[1, 4, 9, 16, 25, 36, 49, 64, 81, 100]"
      ]
     },
     "execution_count": 51,
     "metadata": {},
     "output_type": "execute_result"
    }
   ],
   "source": [
    "list(map(lambda x : x**2, a))"
   ]
  },
  {
   "cell_type": "code",
   "execution_count": null,
   "id": "330c44a7-d59d-48d1-af94-e61a2a679936",
   "metadata": {},
   "outputs": [],
   "source": []
  },
  {
   "cell_type": "markdown",
   "id": "3ac0de91-3b27-485e-acad-f80c8156e99a",
   "metadata": {},
   "source": [
    "Q3 - Write a Python program to convert the given list of integers into a tuple of strings. Use map and lambda functions.\n",
    "\n",
    "Given String:[1,2,3,4,5,6,7,8,9,10]\n",
    "           \n",
    "\n",
    "Expected Output:('1','2','3','4','5','6','7','8','9','10')"
   ]
  },
  {
   "cell_type": "code",
   "execution_count": 52,
   "id": "4bdd8e19-6675-4c2b-8365-0f62e896eb73",
   "metadata": {},
   "outputs": [],
   "source": [
    "string = [1,2,3,4,5,6,7,8,9,10]"
   ]
  },
  {
   "cell_type": "code",
   "execution_count": 53,
   "id": "65aa50cc-1e88-4a04-b52c-102634b065a4",
   "metadata": {},
   "outputs": [
    {
     "data": {
      "text/plain": [
       "('1', '2', '3', '4', '5', '6', '7', '8', '9', '10')"
      ]
     },
     "execution_count": 53,
     "metadata": {},
     "output_type": "execute_result"
    }
   ],
   "source": [
    "tuple(map(lambda x : str(x), string))"
   ]
  },
  {
   "cell_type": "code",
   "execution_count": null,
   "id": "611fec2a-6369-4a25-afb4-762367ec78a2",
   "metadata": {},
   "outputs": [],
   "source": []
  },
  {
   "cell_type": "markdown",
   "id": "0d19fdcf-2a8a-4302-94d9-c536072aa4f0",
   "metadata": {},
   "source": [
    "Ques 4 - Write a python program using a reduce function to compute the product of a list containing numbers from 1 to 25"
   ]
  },
  {
   "cell_type": "code",
   "execution_count": 54,
   "id": "728ca1a8-7ff7-4f40-b4af-a881678077fd",
   "metadata": {},
   "outputs": [],
   "source": [
    "from functools import reduce"
   ]
  },
  {
   "cell_type": "code",
   "execution_count": 56,
   "id": "f23c79d2-f7a0-415e-887a-9f32447a08c1",
   "metadata": {},
   "outputs": [],
   "source": [
    "l = list(range(1,26))"
   ]
  },
  {
   "cell_type": "code",
   "execution_count": 59,
   "id": "73b2d708-6da6-4d97-befc-d0a870df5c7d",
   "metadata": {},
   "outputs": [
    {
     "data": {
      "text/plain": [
       "[1,\n",
       " 2,\n",
       " 3,\n",
       " 4,\n",
       " 5,\n",
       " 6,\n",
       " 7,\n",
       " 8,\n",
       " 9,\n",
       " 10,\n",
       " 11,\n",
       " 12,\n",
       " 13,\n",
       " 14,\n",
       " 15,\n",
       " 16,\n",
       " 17,\n",
       " 18,\n",
       " 19,\n",
       " 20,\n",
       " 21,\n",
       " 22,\n",
       " 23,\n",
       " 24,\n",
       " 25]"
      ]
     },
     "execution_count": 59,
     "metadata": {},
     "output_type": "execute_result"
    }
   ],
   "source": [
    "l"
   ]
  },
  {
   "cell_type": "code",
   "execution_count": 60,
   "id": "2fe66c2a-9b37-42d3-9a9c-a220da9aea6e",
   "metadata": {},
   "outputs": [
    {
     "data": {
      "text/plain": [
       "15511210043330985984000000"
      ]
     },
     "execution_count": 60,
     "metadata": {},
     "output_type": "execute_result"
    }
   ],
   "source": [
    "reduce(lambda x,y: x*y, l)"
   ]
  },
  {
   "cell_type": "code",
   "execution_count": null,
   "id": "acd8e8f4-d271-4c89-94e2-0ee5799039e7",
   "metadata": {},
   "outputs": [],
   "source": []
  },
  {
   "cell_type": "markdown",
   "id": "63d94753-ba79-4a95-b971-9997e485933b",
   "metadata": {},
   "source": [
    "Ques5 - Write a python program to filter the numbers in a given list that are divisible by 2 and 3 using the filter function.\n",
    "\n",
    "[2,3,6,9,27,60,90,120,55,46]"
   ]
  },
  {
   "cell_type": "code",
   "execution_count": 61,
   "id": "aabfd1c5-6550-45c0-98ce-ec85ee68b614",
   "metadata": {},
   "outputs": [],
   "source": [
    "l1 = [2,3,6,9,27,60,90,120,55,46]"
   ]
  },
  {
   "cell_type": "code",
   "execution_count": 66,
   "id": "0d9a8218-87a6-4be6-aeaa-4853f83c1649",
   "metadata": {},
   "outputs": [
    {
     "data": {
      "text/plain": [
       "[6, 60, 90, 120]"
      ]
     },
     "execution_count": 66,
     "metadata": {},
     "output_type": "execute_result"
    }
   ],
   "source": [
    "list(filter(lambda x : x%2 == 0 and x%3 == 0, l1))"
   ]
  },
  {
   "cell_type": "code",
   "execution_count": 64,
   "id": "8158ec76-f873-42ee-949e-1e147c151fcb",
   "metadata": {},
   "outputs": [
    {
     "data": {
      "text/plain": [
       "[2, 6, 60, 90, 120, 46]"
      ]
     },
     "execution_count": 64,
     "metadata": {},
     "output_type": "execute_result"
    }
   ],
   "source": [
    "list(filter(lambda x : x%2 == 0, l1))"
   ]
  },
  {
   "cell_type": "code",
   "execution_count": 65,
   "id": "e045d4cd-f148-4fa3-bd9f-b787abf750e9",
   "metadata": {},
   "outputs": [
    {
     "data": {
      "text/plain": [
       "[3, 6, 9, 27, 60, 90, 120]"
      ]
     },
     "execution_count": 65,
     "metadata": {},
     "output_type": "execute_result"
    }
   ],
   "source": [
    "list(filter(lambda x : x%3 == 0, l1))"
   ]
  },
  {
   "cell_type": "code",
   "execution_count": null,
   "id": "f6fc3226-745d-4617-8f42-50b07656fa5e",
   "metadata": {},
   "outputs": [],
   "source": []
  },
  {
   "cell_type": "markdown",
   "id": "600f1d30-d8e9-4640-b7fd-7a3662778b15",
   "metadata": {},
   "source": [
    "Ques6 - Write a python program to find palindromes in the given list of string using lambda and filter function.\n",
    "\n",
    "['python','php','aba','radar','level']"
   ]
  },
  {
   "cell_type": "code",
   "execution_count": 67,
   "id": "05c58f63-863e-4d78-b7af-38ab8dd8c278",
   "metadata": {},
   "outputs": [],
   "source": [
    "l2 = ['python','php','aba','radar','level']"
   ]
  },
  {
   "cell_type": "code",
   "execution_count": 71,
   "id": "d3b76226-b8f7-434c-a3c3-1110e1696993",
   "metadata": {},
   "outputs": [
    {
     "data": {
      "text/plain": [
       "[]"
      ]
     },
     "execution_count": 71,
     "metadata": {},
     "output_type": "execute_result"
    }
   ],
   "source": [
    "list(filter(lambda x : x[::-1] == l2, l2))"
   ]
  },
  {
   "cell_type": "code",
   "execution_count": null,
   "id": "6387928f-13ce-4ee4-bb86-065bf16089f9",
   "metadata": {},
   "outputs": [],
   "source": []
  },
  {
   "cell_type": "code",
   "execution_count": null,
   "id": "25b4a518-42f5-4ce8-9a34-50b958c32b7a",
   "metadata": {},
   "outputs": [],
   "source": []
  },
  {
   "cell_type": "code",
   "execution_count": null,
   "id": "c55996aa-744a-42dc-bd5b-61634466318c",
   "metadata": {},
   "outputs": [],
   "source": []
  },
  {
   "cell_type": "code",
   "execution_count": null,
   "id": "4298e06a-79ab-4f12-9cb6-61c243307145",
   "metadata": {},
   "outputs": [],
   "source": []
  },
  {
   "cell_type": "code",
   "execution_count": null,
   "id": "19de22ca-cc45-4845-890f-1d42b92afc38",
   "metadata": {},
   "outputs": [],
   "source": []
  },
  {
   "cell_type": "code",
   "execution_count": null,
   "id": "b8cbc59a-51d8-4e6e-8d7b-71bd4e1ce409",
   "metadata": {},
   "outputs": [],
   "source": []
  },
  {
   "cell_type": "code",
   "execution_count": null,
   "id": "b2245ccc-36e3-4ab9-8653-ff06c5f94ddf",
   "metadata": {},
   "outputs": [],
   "source": []
  },
  {
   "cell_type": "code",
   "execution_count": null,
   "id": "2048b463-d940-4924-aed7-c0c703622474",
   "metadata": {},
   "outputs": [],
   "source": []
  },
  {
   "cell_type": "code",
   "execution_count": null,
   "id": "03a0f4c8-d444-4d53-8ddd-f2b7cc0718a7",
   "metadata": {},
   "outputs": [],
   "source": []
  },
  {
   "cell_type": "code",
   "execution_count": null,
   "id": "d5d06e61-1bd8-42a0-a8b4-2e3b86776e1f",
   "metadata": {},
   "outputs": [],
   "source": []
  },
  {
   "cell_type": "code",
   "execution_count": null,
   "id": "4d9fbb73-61ad-4070-8f99-ad2e57846a34",
   "metadata": {},
   "outputs": [],
   "source": []
  },
  {
   "cell_type": "code",
   "execution_count": null,
   "id": "14b3a99b-fd42-4700-8c77-f5c78ceca7aa",
   "metadata": {},
   "outputs": [],
   "source": []
  },
  {
   "cell_type": "code",
   "execution_count": null,
   "id": "ccb6768b-1529-4522-883d-00c5b4e22049",
   "metadata": {},
   "outputs": [],
   "source": []
  },
  {
   "cell_type": "code",
   "execution_count": null,
   "id": "9e3d65a5-f7bb-4af6-bbe9-d429b179551f",
   "metadata": {},
   "outputs": [],
   "source": []
  },
  {
   "cell_type": "code",
   "execution_count": null,
   "id": "445e35b8-5ce0-4100-b057-47fea0e67247",
   "metadata": {},
   "outputs": [],
   "source": []
  },
  {
   "cell_type": "code",
   "execution_count": null,
   "id": "c13dd5c8-0866-4396-b0c4-29923b8d0c44",
   "metadata": {},
   "outputs": [],
   "source": []
  },
  {
   "cell_type": "code",
   "execution_count": null,
   "id": "c1f927ea-0d71-4949-99c6-913fe5405ce6",
   "metadata": {},
   "outputs": [],
   "source": []
  },
  {
   "cell_type": "code",
   "execution_count": null,
   "id": "335160f1-da93-4092-9bd7-92a2feea2080",
   "metadata": {},
   "outputs": [],
   "source": []
  },
  {
   "cell_type": "code",
   "execution_count": null,
   "id": "8760149d-8737-4ab3-b814-28434c3e9c29",
   "metadata": {},
   "outputs": [],
   "source": []
  },
  {
   "cell_type": "code",
   "execution_count": null,
   "id": "27ab47e7-73db-4294-a4a7-170fa04b0460",
   "metadata": {},
   "outputs": [],
   "source": []
  },
  {
   "cell_type": "code",
   "execution_count": null,
   "id": "9e5a1400-4b4c-4c67-8865-b16bae3aff33",
   "metadata": {},
   "outputs": [],
   "source": []
  },
  {
   "cell_type": "code",
   "execution_count": null,
   "id": "34129e03-6016-4f27-80fa-7a1d478ea5ad",
   "metadata": {},
   "outputs": [],
   "source": []
  },
  {
   "cell_type": "code",
   "execution_count": null,
   "id": "5d0ecd35-08bf-42a8-a443-3d0d6d41e5f8",
   "metadata": {},
   "outputs": [],
   "source": []
  },
  {
   "cell_type": "code",
   "execution_count": null,
   "id": "6704b5fa-2e1b-4daf-98a0-42a4f8c1a296",
   "metadata": {},
   "outputs": [],
   "source": []
  },
  {
   "cell_type": "code",
   "execution_count": null,
   "id": "a8da18f7-a379-4d6a-9e70-6785bdcbbad9",
   "metadata": {},
   "outputs": [],
   "source": []
  },
  {
   "cell_type": "code",
   "execution_count": null,
   "id": "bfeca084-1697-4ed3-bce6-d850410c3def",
   "metadata": {},
   "outputs": [],
   "source": []
  },
  {
   "cell_type": "code",
   "execution_count": null,
   "id": "e5603313-672c-4001-8aee-5a7278566350",
   "metadata": {},
   "outputs": [],
   "source": []
  },
  {
   "cell_type": "code",
   "execution_count": null,
   "id": "7d83e47e-7c06-4fe6-9642-b25845bcfa60",
   "metadata": {},
   "outputs": [],
   "source": []
  },
  {
   "cell_type": "code",
   "execution_count": null,
   "id": "3188902e-e611-4611-9b8c-94e172a6388b",
   "metadata": {},
   "outputs": [],
   "source": []
  },
  {
   "cell_type": "code",
   "execution_count": null,
   "id": "c112883e-3b39-4bcb-829e-1c90643cc8f4",
   "metadata": {},
   "outputs": [],
   "source": []
  },
  {
   "cell_type": "code",
   "execution_count": null,
   "id": "0e2ca1bc-b678-4a77-9e2e-017ff3c14a69",
   "metadata": {},
   "outputs": [],
   "source": []
  },
  {
   "cell_type": "code",
   "execution_count": null,
   "id": "b6154dfa-f4c7-489e-9701-0f7ae7472406",
   "metadata": {},
   "outputs": [],
   "source": []
  },
  {
   "cell_type": "code",
   "execution_count": null,
   "id": "be311b6a-5020-440a-a53d-7fc64f3a679c",
   "metadata": {},
   "outputs": [],
   "source": []
  },
  {
   "cell_type": "code",
   "execution_count": null,
   "id": "bfd36e01-f587-4fbd-add6-5e376c3019aa",
   "metadata": {},
   "outputs": [],
   "source": []
  },
  {
   "cell_type": "code",
   "execution_count": null,
   "id": "2ed9437e-6768-4808-9d5a-a7c9ae6cd20e",
   "metadata": {},
   "outputs": [],
   "source": []
  },
  {
   "cell_type": "code",
   "execution_count": null,
   "id": "8bf40222-4b57-4fc8-a7db-366655376e09",
   "metadata": {},
   "outputs": [],
   "source": []
  },
  {
   "cell_type": "code",
   "execution_count": null,
   "id": "162565bd-e2cd-4718-88f9-ec296c76d844",
   "metadata": {},
   "outputs": [],
   "source": []
  },
  {
   "cell_type": "code",
   "execution_count": null,
   "id": "fcdb4a2b-9a5f-4c69-8548-b4438ee0d6f4",
   "metadata": {},
   "outputs": [],
   "source": []
  },
  {
   "cell_type": "code",
   "execution_count": null,
   "id": "7b83f1eb-478d-42ec-851a-8aae3ce20840",
   "metadata": {},
   "outputs": [],
   "source": []
  },
  {
   "cell_type": "code",
   "execution_count": null,
   "id": "e5dbe331-9fdc-4122-9e9f-64d43e8e4785",
   "metadata": {},
   "outputs": [],
   "source": []
  },
  {
   "cell_type": "code",
   "execution_count": null,
   "id": "387335f1-c73c-4fb2-bc92-523e94e294ac",
   "metadata": {},
   "outputs": [],
   "source": []
  },
  {
   "cell_type": "code",
   "execution_count": null,
   "id": "3522bc5c-da76-496b-854a-b62c78ded968",
   "metadata": {},
   "outputs": [],
   "source": []
  },
  {
   "cell_type": "code",
   "execution_count": null,
   "id": "b3b0bfc8-bb0a-46b6-9676-ca722a60a8f2",
   "metadata": {},
   "outputs": [],
   "source": []
  },
  {
   "cell_type": "code",
   "execution_count": null,
   "id": "ba80a2ce-c662-4eb0-ac75-3ec924fe89b6",
   "metadata": {},
   "outputs": [],
   "source": []
  },
  {
   "cell_type": "code",
   "execution_count": null,
   "id": "9c1d5bbe-d08c-45e7-85a7-13ffa405e5fd",
   "metadata": {},
   "outputs": [],
   "source": []
  },
  {
   "cell_type": "code",
   "execution_count": null,
   "id": "b2bd3949-fc2f-4e98-8787-09945be2c78e",
   "metadata": {},
   "outputs": [],
   "source": []
  },
  {
   "cell_type": "code",
   "execution_count": null,
   "id": "4c3d7283-ab24-4181-9901-f948b234dd87",
   "metadata": {},
   "outputs": [],
   "source": []
  },
  {
   "cell_type": "code",
   "execution_count": null,
   "id": "0b4c2dfd-005e-4ba1-abf6-1707c59635fc",
   "metadata": {},
   "outputs": [],
   "source": []
  },
  {
   "cell_type": "code",
   "execution_count": null,
   "id": "c4fe3cac-f0da-4707-aba4-4678a09bd42b",
   "metadata": {},
   "outputs": [],
   "source": []
  },
  {
   "cell_type": "code",
   "execution_count": null,
   "id": "4f6c4ee6-ab74-46fb-89f5-e62e6cd4e5db",
   "metadata": {},
   "outputs": [],
   "source": []
  },
  {
   "cell_type": "code",
   "execution_count": null,
   "id": "28143e3c-10f9-43b9-9ed8-5b6cc86e6a32",
   "metadata": {},
   "outputs": [],
   "source": []
  },
  {
   "cell_type": "code",
   "execution_count": null,
   "id": "ef6cf6ce-55a8-469f-8d86-374de8783f94",
   "metadata": {},
   "outputs": [],
   "source": []
  },
  {
   "cell_type": "code",
   "execution_count": null,
   "id": "d20fd6c1-e736-4715-a4ce-86df1b96d31b",
   "metadata": {},
   "outputs": [],
   "source": []
  },
  {
   "cell_type": "code",
   "execution_count": null,
   "id": "d0daef93-408f-43a1-bdd9-67868a0b416a",
   "metadata": {},
   "outputs": [],
   "source": []
  },
  {
   "cell_type": "code",
   "execution_count": null,
   "id": "eac4d605-92de-46b4-8b28-1c9db12f40e5",
   "metadata": {},
   "outputs": [],
   "source": []
  },
  {
   "cell_type": "code",
   "execution_count": null,
   "id": "504b0299-a294-450b-bcbf-5edca74eccb3",
   "metadata": {},
   "outputs": [],
   "source": []
  },
  {
   "cell_type": "code",
   "execution_count": null,
   "id": "83ea99a1-cac8-4d03-a407-7ece4936f008",
   "metadata": {},
   "outputs": [],
   "source": []
  },
  {
   "cell_type": "code",
   "execution_count": null,
   "id": "ff23d02e-b3a4-4655-812d-4433c82981e0",
   "metadata": {},
   "outputs": [],
   "source": []
  },
  {
   "cell_type": "code",
   "execution_count": null,
   "id": "d7abe14d-43f8-4fcc-a1d8-dddbf80edf16",
   "metadata": {},
   "outputs": [],
   "source": []
  },
  {
   "cell_type": "code",
   "execution_count": null,
   "id": "3c3f4d35-b9f1-4eb1-857b-3352bf13f488",
   "metadata": {},
   "outputs": [],
   "source": []
  },
  {
   "cell_type": "code",
   "execution_count": null,
   "id": "04c4336f-242f-4e85-b6db-c4e31138c690",
   "metadata": {},
   "outputs": [],
   "source": []
  },
  {
   "cell_type": "code",
   "execution_count": null,
   "id": "8064cebc-974c-41a2-98c6-4abcc21e3c59",
   "metadata": {},
   "outputs": [],
   "source": []
  },
  {
   "cell_type": "code",
   "execution_count": null,
   "id": "f124d966-25d8-49c9-8ae6-e9048ecaafbc",
   "metadata": {},
   "outputs": [],
   "source": []
  },
  {
   "cell_type": "code",
   "execution_count": null,
   "id": "f3883ebc-bec8-4566-b77b-c992ec159192",
   "metadata": {},
   "outputs": [],
   "source": []
  },
  {
   "cell_type": "code",
   "execution_count": null,
   "id": "0673e12f-c311-4831-9947-e320532765ea",
   "metadata": {},
   "outputs": [],
   "source": []
  },
  {
   "cell_type": "code",
   "execution_count": null,
   "id": "dc7c4ff7-36e6-444c-8840-c846624d1f8d",
   "metadata": {},
   "outputs": [],
   "source": []
  },
  {
   "cell_type": "code",
   "execution_count": null,
   "id": "8cb575e6-d6cc-4029-8590-ea8fa2465a3c",
   "metadata": {},
   "outputs": [],
   "source": []
  },
  {
   "cell_type": "code",
   "execution_count": null,
   "id": "eb4270cb-4e8a-488c-86a7-1b53ffda495a",
   "metadata": {},
   "outputs": [],
   "source": []
  },
  {
   "cell_type": "code",
   "execution_count": null,
   "id": "ee1b4d1f-1418-4d1d-8195-3bea8c7c5a60",
   "metadata": {},
   "outputs": [],
   "source": []
  },
  {
   "cell_type": "code",
   "execution_count": null,
   "id": "d1c087d1-743a-4556-a589-f11c791121cb",
   "metadata": {},
   "outputs": [],
   "source": []
  },
  {
   "cell_type": "code",
   "execution_count": null,
   "id": "e0336d82-865d-40c6-98cc-510e9439d030",
   "metadata": {},
   "outputs": [],
   "source": []
  },
  {
   "cell_type": "code",
   "execution_count": null,
   "id": "dc59944e-9c48-49db-a02f-683d4ff45b09",
   "metadata": {},
   "outputs": [],
   "source": []
  },
  {
   "cell_type": "code",
   "execution_count": null,
   "id": "45335f8d-97c6-40b7-b25b-7506462b194d",
   "metadata": {},
   "outputs": [],
   "source": []
  },
  {
   "cell_type": "code",
   "execution_count": null,
   "id": "60e4a817-0734-4fec-ab84-08b7ca9a619b",
   "metadata": {},
   "outputs": [],
   "source": []
  },
  {
   "cell_type": "code",
   "execution_count": null,
   "id": "79983b9d-1825-46b8-8159-d1d50b695267",
   "metadata": {},
   "outputs": [],
   "source": []
  },
  {
   "cell_type": "code",
   "execution_count": null,
   "id": "94d20dcc-dabe-4c9e-8586-a86d284235c4",
   "metadata": {},
   "outputs": [],
   "source": []
  },
  {
   "cell_type": "code",
   "execution_count": null,
   "id": "99e00d58-5cd3-40df-9bc1-ddf15de54907",
   "metadata": {},
   "outputs": [],
   "source": []
  },
  {
   "cell_type": "code",
   "execution_count": null,
   "id": "fdf6132b-3826-4fa8-8dfa-a8b6f60ef0e1",
   "metadata": {},
   "outputs": [],
   "source": []
  },
  {
   "cell_type": "code",
   "execution_count": null,
   "id": "de9aba1b-09a2-4dba-94b4-a216833e4199",
   "metadata": {},
   "outputs": [],
   "source": []
  },
  {
   "cell_type": "code",
   "execution_count": null,
   "id": "d5cdce89-d222-48b2-9c2d-917b059914d5",
   "metadata": {},
   "outputs": [],
   "source": []
  },
  {
   "cell_type": "code",
   "execution_count": null,
   "id": "8084b2bf-3b86-40c8-bf58-e5073bc51ec9",
   "metadata": {},
   "outputs": [],
   "source": []
  },
  {
   "cell_type": "code",
   "execution_count": null,
   "id": "f2c42f94-6f64-4f3e-98df-b949c6396816",
   "metadata": {},
   "outputs": [],
   "source": []
  },
  {
   "cell_type": "code",
   "execution_count": null,
   "id": "ff23ead1-bb0c-48a4-a5f6-c9f5de0b604e",
   "metadata": {},
   "outputs": [],
   "source": []
  },
  {
   "cell_type": "code",
   "execution_count": null,
   "id": "6fedfea8-fb61-49bc-bddd-2fe3c9ae3c4a",
   "metadata": {},
   "outputs": [],
   "source": []
  },
  {
   "cell_type": "code",
   "execution_count": null,
   "id": "b79f9af8-3615-4581-91ef-46b454d9644d",
   "metadata": {},
   "outputs": [],
   "source": []
  },
  {
   "cell_type": "code",
   "execution_count": null,
   "id": "9b04f18e-29c0-4359-a0b8-e2dc16a31544",
   "metadata": {},
   "outputs": [],
   "source": []
  },
  {
   "cell_type": "code",
   "execution_count": null,
   "id": "0f7e5cd3-69cb-4c9c-8aed-cd58d31e8521",
   "metadata": {},
   "outputs": [],
   "source": []
  },
  {
   "cell_type": "code",
   "execution_count": null,
   "id": "0bc1743f-2d7a-439d-8d86-4b9193282eae",
   "metadata": {},
   "outputs": [],
   "source": []
  },
  {
   "cell_type": "code",
   "execution_count": null,
   "id": "919e2bdd-934b-4bac-8c12-0a3c717b4d70",
   "metadata": {},
   "outputs": [],
   "source": []
  },
  {
   "cell_type": "code",
   "execution_count": null,
   "id": "7e975d64-3d99-4386-8532-6a38d3472953",
   "metadata": {},
   "outputs": [],
   "source": []
  },
  {
   "cell_type": "code",
   "execution_count": null,
   "id": "a1aec022-44d9-4aa7-94b4-daa00e13ee3f",
   "metadata": {},
   "outputs": [],
   "source": []
  },
  {
   "cell_type": "code",
   "execution_count": null,
   "id": "db3cbee7-edc1-42bf-bde6-8616725a16b1",
   "metadata": {},
   "outputs": [],
   "source": []
  },
  {
   "cell_type": "code",
   "execution_count": null,
   "id": "51dac290-b465-4b17-895c-088bd9960479",
   "metadata": {},
   "outputs": [],
   "source": []
  },
  {
   "cell_type": "code",
   "execution_count": null,
   "id": "6a403674-9d43-4908-8a16-e9a030db609e",
   "metadata": {},
   "outputs": [],
   "source": []
  },
  {
   "cell_type": "code",
   "execution_count": null,
   "id": "4aa5967e-5bbf-4bee-88a1-adb73f3c6171",
   "metadata": {},
   "outputs": [],
   "source": []
  },
  {
   "cell_type": "code",
   "execution_count": null,
   "id": "d2d104eb-54c0-4e52-958b-aba7e97cae9c",
   "metadata": {},
   "outputs": [],
   "source": []
  },
  {
   "cell_type": "code",
   "execution_count": null,
   "id": "568f374e-4c8d-4df4-9db8-6c0d7a9e876b",
   "metadata": {},
   "outputs": [],
   "source": []
  }
 ],
 "metadata": {
  "kernelspec": {
   "display_name": "Python 3 (ipykernel)",
   "language": "python",
   "name": "python3"
  },
  "language_info": {
   "codemirror_mode": {
    "name": "ipython",
    "version": 3
   },
   "file_extension": ".py",
   "mimetype": "text/x-python",
   "name": "python",
   "nbconvert_exporter": "python",
   "pygments_lexer": "ipython3",
   "version": "3.10.8"
  }
 },
 "nbformat": 4,
 "nbformat_minor": 5
}
